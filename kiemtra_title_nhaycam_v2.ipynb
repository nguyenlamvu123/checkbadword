{
 "cells": [
  {
   "cell_type": "code",
   "execution_count": null,
   "id": "ced3e4f3",
   "metadata": {},
   "outputs": [],
   "source": [
    "import pandas as pd\n",
    "from openai import OpenAI\n",
    "from coordinate_constant import readfile\n",
    "\n",
    "\n",
    "apikey:str = readfile('apikey.txt', '_r')\n",
    "client = OpenAI(\n",
    "    # This is the default and can be omitted\n",
    "    api_key=apikey,\n",
    ")\n",
    "\n",
    "# Đọc file Excel và lấy dữ liệu từ cột 'title'\n",
    "df = pd.read_excel('ds post.xlsx')\n",
    "\n",
    "# Hàm kiểm tra từ nhạy cảm thông qua ChatGPT API\n",
    "def check_sensitive_content(text):\n",
    "    message_content = (\n",
    "            f\"Kiểm tra đoạn văn sau để xác định xem có chứa nội dung nhạy cảm không:\\n\\n'{text}'\\n\\n\"\n",
    "            \"Các nội dung nhạy cảm cần kiểm tra bao gồm:\\n\"\n",
    "            \"- **Chính trị**: các từ liên quan đến bầu cử, chính quyền, phản động hoặc cách mạng.\\n\"\n",
    "            \"- **Bạo lực**: từ liên quan đến hành vi bạo lực, giết người, đánh đập, hoặc khủng bố.\\n\"\n",
    "            \"- **Khiêu dâm**: nội dung tình dục, khiêu dâm, đồi trụy hoặc nhạy cảm.\\n\\n\"\n",
    "            \"Nếu đoạn văn có chứa bất kỳ loại nội dung nào trên, hãy trả lời 'Có' kèm theo loại nội dung. \"\n",
    "            \"Nếu không, hãy trả lời 'Không'.\"\n",
    "        )\n",
    "    response = client.chat.completions.create(\n",
    "        model=\"gpt-3.5-turbo\",\n",
    "        messages=[\n",
    "            {\"role\": \"user\", \"content\": message_content}\n",
    "        ],\n",
    "        max_tokens=5,\n",
    "        temperature=0\n",
    "    )\n",
    "    result = response.choices[0].message.content.strip()\n",
    "    return result\n",
    "\n",
    "# Duyệt qua các tiêu đề trong cột 'title' và xác nhận từ nhạy cảm\n",
    "df['Sensitive Words'] = df['Title'].apply(check_sensitive_content)\n",
    "\n",
    "# Xuất dữ liệu đã xử lý ra file Excel mới\n",
    "df.to_excel('output_with_sensitive_words1.xlsx', index=False)\n",
    "\n",
    "print(\"Đã kiểm tra từ nhạy cảm và lưu kết quả vào 'output_with_sensitive_words.xlsx'\")\n"
   ]
  },
  {
   "cell_type": "code",
   "execution_count": null,
   "id": "2050b676-556a-4a32-ba1a-67b38ce8d9ba",
   "metadata": {},
   "outputs": [],
   "source": []
  }
 ],
 "metadata": {
  "kernelspec": {
   "display_name": "Python 3 (ipykernel)",
   "language": "python",
   "name": "python3"
  },
  "language_info": {
   "codemirror_mode": {
    "name": "ipython",
    "version": 3
   },
   "file_extension": ".py",
   "mimetype": "text/x-python",
   "name": "python",
   "nbconvert_exporter": "python",
   "pygments_lexer": "ipython3",
   "version": "3.10.15"
  }
 },
 "nbformat": 4,
 "nbformat_minor": 5
}
